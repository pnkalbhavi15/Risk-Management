{
 "cells": [
  {
   "cell_type": "code",
   "execution_count": null,
   "id": "aacb9a6c-df59-4cd7-a595-3e7c648928f1",
   "metadata": {},
   "outputs": [
    {
     "ename": "",
     "evalue": "",
     "output_type": "error",
     "traceback": [
      "\u001b[1;31mFailed to start the Kernel. \n",
      "\u001b[1;31mBad file descriptor (C:\\Users\\runneradmin\\AppData\\Local\\Temp\\tmpddg6uifr\\build\\_deps\\bundled_libzmq-src\\src\\epoll.cpp:73). \n",
      "\u001b[1;31mView Jupyter <a href='command:jupyter.viewOutput'>log</a> for further details."
     ]
    }
   ],
   "source": [
    "import pandas as pd\n",
    "\n",
    "# Load the generated data\n",
    "transaction_data = pd.read_csv('transaction_data.csv')\n",
    "customer_data = pd.read_csv('customer_data.csv')\n",
    "\n",
    "# Display the first few rows of each dataset\n",
    "print(transaction_data.head())\n",
    "print(customer_data.head())\n",
    "\n",
    "# Basic data analysis\n",
    "print(\"Transaction Data Statistics:\")\n",
    "print(transaction_data.describe())\n",
    "\n",
    "print(\"Customer Data Statistics:\")\n",
    "print(customer_data.describe())\n"
   ]
  }
 ],
 "metadata": {
  "kernelspec": {
   "display_name": "venv",
   "language": "python",
   "name": "python3"
  },
  "language_info": {
   "name": "python",
   "version": "3.10.11"
  }
 },
 "nbformat": 4,
 "nbformat_minor": 5
}
